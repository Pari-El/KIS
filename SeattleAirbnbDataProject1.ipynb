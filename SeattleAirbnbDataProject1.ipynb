{
 "cells": [
  {
   "cell_type": "code",
   "execution_count": 504,
   "metadata": {},
   "outputs": [],
   "source": [
    "#FIrst Look at the DATA\n",
    "\n",
    "import numpy as np\n",
    "import pandas as pd\n",
    "import matplotlib.pyplot as plt\n",
    "import seaborn as sns\n",
    "from sklearn.linear_model import LinearRegression\n",
    "from sklearn.model_selection import train_test_split\n",
    "from sklearn.metrics import r2_score, mean_squared_error\n",
    "\n",
    "from math import sin, cos, sqrt, atan2, radians\n",
    "%matplotlib inline\n",
    "\n",
    "# 1) Does the proximity to city center mean higher price?\n",
    "# 2) I tend to find it easy to book a place with high amount of reviews, distance to city centre and price.lets investigate \n",
    "    # this reality\n",
    "# 3) where is the best location, pricing and property type?\n",
    "\n",
    "\n",
    "df_listings = pd.read_csv('./Desktop/KIS/seattle/listings.csv')\n",
    "\n",
    "# -- CHECK COLUMNS TYPEs & MISSING DATA -- \n",
    "def df_cat_and_qnt_details(df):\n",
    "    \n",
    "    '''\n",
    "    INPUT - df - pandas dataframe which is read csv\n",
    "    OUTPUT - return the lists of column names of both full and non-full categorical and quantitative columns \n",
    "        [0] df_cat_all_Values_ColName,\n",
    "        [1] df_cat_missing_Values_ColName, \n",
    "        [2] df_qnt_all_Values_ColName, \n",
    "        [3] df_qnt_missing_Values_ColName    \n",
    "    '''  \n",
    "    print(\"rows: \", df.shape[0], \"Columns: \", df.shape[1])\n",
    "    \n",
    "    print(\"- Identify categorical columns in the DFs -\")\n",
    "    df_cat = df.select_dtypes(include=['object'])\n",
    "    print(\"categorical columns: \", df_cat.shape[1]) \n",
    "    \n",
    "    print(\"- categorical columns with no missing values -\")\n",
    "    df_cat_all_Values = np.sum(np.sum(df_cat.isnull())/df_cat.shape[0] == 0)\n",
    "    print(\"Categorical Columns with all data: \", df_cat_all_Values)\n",
    "    \n",
    "    #categorical columns Names with no missing values\n",
    "    df_cat_all_Values_ColName = df_cat.columns[np.sum(df_cat.isnull())==0].tolist()\n",
    "    #categorical columns Names with missing values\n",
    "    df_cat_missing_Values_ColName = df_cat.columns[np.sum(df_cat.isnull())!=0].tolist()\n",
    "    \n",
    "    print(\"- Identify Quantitative columns in the DFs -\")\n",
    "    df_qnt = df.select_dtypes(include=['int64', 'float64'])\n",
    "    print(\"Quantitative Columns: \", df_qnt.shape[1])\n",
    "    \n",
    "    print(\"- Quantitative columns Names with no missing values -\")\n",
    "    df_qnt_all_Values = np.sum(np.sum(df_qnt.isnull())/df_qnt.shape[0] == 0)\n",
    "    print(\"Quantitative Columns with all data:\", df_qnt_all_Values)\n",
    "    print()\n",
    "    \n",
    "    #Quantitative columns Names with missing values\n",
    "    df_qnt_all_Values_ColName = df_qnt.columns[np.sum(df_qnt.isnull())==0].tolist()\n",
    "    #Quantitative columns Names with missing values\n",
    "    df_qnt_missing_Values_ColName = df_qnt.columns[np.sum(df_qnt.isnull())!=0].tolist()\n",
    "    \n",
    "    #return the columns names of both full and non-full categorical and quantitative columns\n",
    "    return df_cat_all_Values_ColName, df_cat_missing_Values_ColName, df_qnt_all_Values_ColName, df_qnt_missing_Values_ColName\n"
   ]
  },
  {
   "cell_type": "code",
   "execution_count": 505,
   "metadata": {},
   "outputs": [
    {
     "name": "stdout",
     "output_type": "stream",
     "text": [
      "listings\n",
      "rows:  3818 Columns:  92\n",
      "- Identify categorical columns in the DFs -\n",
      "categorical columns:  62\n",
      "- categorical columns with no missing values -\n",
      "Categorical Columns with all data:  32\n",
      "- Identify Quantitative columns in the DFs -\n",
      "Quantitative Columns:  30\n",
      "- Quantitative columns Names with no missing values -\n",
      "Quantitative Columns with all data: 15\n",
      "\n"
     ]
    }
   ],
   "source": [
    "#print the list of column names which are Categorical with all values and quantitative with all values in the 'listings' and 'review' data\n",
    "print(\"listings\")\n",
    "df_listings_dets = df_cat_and_qnt_details(df_listings)"
   ]
  },
  {
   "cell_type": "code",
   "execution_count": 623,
   "metadata": {},
   "outputs": [
    {
     "data": {
      "text/plain": [
       "(['listing_url',\n",
       "  'last_scraped',\n",
       "  'name',\n",
       "  'description',\n",
       "  'experiences_offered',\n",
       "  'picture_url',\n",
       "  'host_url',\n",
       "  'host_verifications',\n",
       "  'street',\n",
       "  'neighbourhood_cleansed',\n",
       "  'neighbourhood_group_cleansed',\n",
       "  'city',\n",
       "  'state',\n",
       "  'market',\n",
       "  'smart_location',\n",
       "  'country_code',\n",
       "  'country',\n",
       "  'is_location_exact',\n",
       "  'room_type',\n",
       "  'bed_type',\n",
       "  'amenities',\n",
       "  'price',\n",
       "  'extra_people',\n",
       "  'calendar_updated',\n",
       "  'has_availability',\n",
       "  'calendar_last_scraped',\n",
       "  'requires_license',\n",
       "  'jurisdiction_names',\n",
       "  'instant_bookable',\n",
       "  'cancellation_policy',\n",
       "  'require_guest_profile_picture',\n",
       "  'require_guest_phone_verification'],\n",
       " ['summary',\n",
       "  'space',\n",
       "  'neighborhood_overview',\n",
       "  'notes',\n",
       "  'transit',\n",
       "  'thumbnail_url',\n",
       "  'medium_url',\n",
       "  'xl_picture_url',\n",
       "  'host_name',\n",
       "  'host_since',\n",
       "  'host_location',\n",
       "  'host_about',\n",
       "  'host_response_time',\n",
       "  'host_response_rate',\n",
       "  'host_acceptance_rate',\n",
       "  'host_is_superhost',\n",
       "  'host_thumbnail_url',\n",
       "  'host_picture_url',\n",
       "  'host_neighbourhood',\n",
       "  'host_has_profile_pic',\n",
       "  'host_identity_verified',\n",
       "  'neighbourhood',\n",
       "  'zipcode',\n",
       "  'property_type',\n",
       "  'weekly_price',\n",
       "  'monthly_price',\n",
       "  'security_deposit',\n",
       "  'cleaning_fee',\n",
       "  'first_review',\n",
       "  'last_review'],\n",
       " ['id',\n",
       "  'scrape_id',\n",
       "  'host_id',\n",
       "  'latitude',\n",
       "  'longitude',\n",
       "  'accommodates',\n",
       "  'guests_included',\n",
       "  'minimum_nights',\n",
       "  'maximum_nights',\n",
       "  'availability_30',\n",
       "  'availability_60',\n",
       "  'availability_90',\n",
       "  'availability_365',\n",
       "  'number_of_reviews',\n",
       "  'calculated_host_listings_count'],\n",
       " ['host_listings_count',\n",
       "  'host_total_listings_count',\n",
       "  'bathrooms',\n",
       "  'bedrooms',\n",
       "  'beds',\n",
       "  'square_feet',\n",
       "  'review_scores_rating',\n",
       "  'review_scores_accuracy',\n",
       "  'review_scores_cleanliness',\n",
       "  'review_scores_checkin',\n",
       "  'review_scores_communication',\n",
       "  'review_scores_location',\n",
       "  'review_scores_value',\n",
       "  'license',\n",
       "  'reviews_per_month'])"
      ]
     },
     "execution_count": 623,
     "metadata": {},
     "output_type": "execute_result"
    }
   ],
   "source": [
    "#[0] df_cat_all_Values_ColName, [1] df_cat_missing_Values_ColName, [2] df_qnt_all_Values_ColName, [3] df_qnt_missing_Values_ColName \n",
    "df_listings_dets"
   ]
  },
  {
   "cell_type": "code",
   "execution_count": 507,
   "metadata": {
    "scrolled": true
   },
   "outputs": [
    {
     "data": {
      "text/html": [
       "<div>\n",
       "<style scoped>\n",
       "    .dataframe tbody tr th:only-of-type {\n",
       "        vertical-align: middle;\n",
       "    }\n",
       "\n",
       "    .dataframe tbody tr th {\n",
       "        vertical-align: top;\n",
       "    }\n",
       "\n",
       "    .dataframe thead th {\n",
       "        text-align: right;\n",
       "    }\n",
       "</style>\n",
       "<table border=\"1\" class=\"dataframe\">\n",
       "  <thead>\n",
       "    <tr style=\"text-align: right;\">\n",
       "      <th></th>\n",
       "      <th>id</th>\n",
       "      <th>listing_url</th>\n",
       "      <th>scrape_id</th>\n",
       "      <th>last_scraped</th>\n",
       "      <th>name</th>\n",
       "      <th>summary</th>\n",
       "      <th>space</th>\n",
       "      <th>description</th>\n",
       "      <th>experiences_offered</th>\n",
       "      <th>neighborhood_overview</th>\n",
       "      <th>...</th>\n",
       "      <th>review_scores_value</th>\n",
       "      <th>requires_license</th>\n",
       "      <th>license</th>\n",
       "      <th>jurisdiction_names</th>\n",
       "      <th>instant_bookable</th>\n",
       "      <th>cancellation_policy</th>\n",
       "      <th>require_guest_profile_picture</th>\n",
       "      <th>require_guest_phone_verification</th>\n",
       "      <th>calculated_host_listings_count</th>\n",
       "      <th>reviews_per_month</th>\n",
       "    </tr>\n",
       "  </thead>\n",
       "  <tbody>\n",
       "    <tr>\n",
       "      <td>0</td>\n",
       "      <td>241032</td>\n",
       "      <td>https://www.airbnb.com/rooms/241032</td>\n",
       "      <td>20160104002432</td>\n",
       "      <td>2016-01-04</td>\n",
       "      <td>Stylish Queen Anne Apartment</td>\n",
       "      <td>NaN</td>\n",
       "      <td>Make your self at home in this charming one-be...</td>\n",
       "      <td>Make your self at home in this charming one-be...</td>\n",
       "      <td>none</td>\n",
       "      <td>NaN</td>\n",
       "      <td>...</td>\n",
       "      <td>10.0</td>\n",
       "      <td>f</td>\n",
       "      <td>NaN</td>\n",
       "      <td>WASHINGTON</td>\n",
       "      <td>f</td>\n",
       "      <td>moderate</td>\n",
       "      <td>f</td>\n",
       "      <td>f</td>\n",
       "      <td>2</td>\n",
       "      <td>4.07</td>\n",
       "    </tr>\n",
       "    <tr>\n",
       "      <td>1</td>\n",
       "      <td>953595</td>\n",
       "      <td>https://www.airbnb.com/rooms/953595</td>\n",
       "      <td>20160104002432</td>\n",
       "      <td>2016-01-04</td>\n",
       "      <td>Bright &amp; Airy Queen Anne Apartment</td>\n",
       "      <td>Chemically sensitive? We've removed the irrita...</td>\n",
       "      <td>Beautiful, hypoallergenic apartment in an extr...</td>\n",
       "      <td>Chemically sensitive? We've removed the irrita...</td>\n",
       "      <td>none</td>\n",
       "      <td>Queen Anne is a wonderful, truly functional vi...</td>\n",
       "      <td>...</td>\n",
       "      <td>10.0</td>\n",
       "      <td>f</td>\n",
       "      <td>NaN</td>\n",
       "      <td>WASHINGTON</td>\n",
       "      <td>f</td>\n",
       "      <td>strict</td>\n",
       "      <td>t</td>\n",
       "      <td>t</td>\n",
       "      <td>6</td>\n",
       "      <td>1.48</td>\n",
       "    </tr>\n",
       "    <tr>\n",
       "      <td>2</td>\n",
       "      <td>3308979</td>\n",
       "      <td>https://www.airbnb.com/rooms/3308979</td>\n",
       "      <td>20160104002432</td>\n",
       "      <td>2016-01-04</td>\n",
       "      <td>New Modern House-Amazing water view</td>\n",
       "      <td>New modern house built in 2013.  Spectacular s...</td>\n",
       "      <td>Our house is modern, light and fresh with a wa...</td>\n",
       "      <td>New modern house built in 2013.  Spectacular s...</td>\n",
       "      <td>none</td>\n",
       "      <td>Upper Queen Anne is a charming neighborhood fu...</td>\n",
       "      <td>...</td>\n",
       "      <td>10.0</td>\n",
       "      <td>f</td>\n",
       "      <td>NaN</td>\n",
       "      <td>WASHINGTON</td>\n",
       "      <td>f</td>\n",
       "      <td>strict</td>\n",
       "      <td>f</td>\n",
       "      <td>f</td>\n",
       "      <td>2</td>\n",
       "      <td>1.15</td>\n",
       "    </tr>\n",
       "    <tr>\n",
       "      <td>3</td>\n",
       "      <td>7421966</td>\n",
       "      <td>https://www.airbnb.com/rooms/7421966</td>\n",
       "      <td>20160104002432</td>\n",
       "      <td>2016-01-04</td>\n",
       "      <td>Queen Anne Chateau</td>\n",
       "      <td>A charming apartment that sits atop Queen Anne...</td>\n",
       "      <td>NaN</td>\n",
       "      <td>A charming apartment that sits atop Queen Anne...</td>\n",
       "      <td>none</td>\n",
       "      <td>NaN</td>\n",
       "      <td>...</td>\n",
       "      <td>NaN</td>\n",
       "      <td>f</td>\n",
       "      <td>NaN</td>\n",
       "      <td>WASHINGTON</td>\n",
       "      <td>f</td>\n",
       "      <td>flexible</td>\n",
       "      <td>f</td>\n",
       "      <td>f</td>\n",
       "      <td>1</td>\n",
       "      <td>NaN</td>\n",
       "    </tr>\n",
       "    <tr>\n",
       "      <td>4</td>\n",
       "      <td>278830</td>\n",
       "      <td>https://www.airbnb.com/rooms/278830</td>\n",
       "      <td>20160104002432</td>\n",
       "      <td>2016-01-04</td>\n",
       "      <td>Charming craftsman 3 bdm house</td>\n",
       "      <td>Cozy family craftman house in beautiful neighb...</td>\n",
       "      <td>Cozy family craftman house in beautiful neighb...</td>\n",
       "      <td>Cozy family craftman house in beautiful neighb...</td>\n",
       "      <td>none</td>\n",
       "      <td>We are in the beautiful neighborhood of Queen ...</td>\n",
       "      <td>...</td>\n",
       "      <td>9.0</td>\n",
       "      <td>f</td>\n",
       "      <td>NaN</td>\n",
       "      <td>WASHINGTON</td>\n",
       "      <td>f</td>\n",
       "      <td>strict</td>\n",
       "      <td>f</td>\n",
       "      <td>f</td>\n",
       "      <td>1</td>\n",
       "      <td>0.89</td>\n",
       "    </tr>\n",
       "  </tbody>\n",
       "</table>\n",
       "<p>5 rows × 92 columns</p>\n",
       "</div>"
      ],
      "text/plain": [
       "        id                           listing_url       scrape_id last_scraped  \\\n",
       "0   241032   https://www.airbnb.com/rooms/241032  20160104002432   2016-01-04   \n",
       "1   953595   https://www.airbnb.com/rooms/953595  20160104002432   2016-01-04   \n",
       "2  3308979  https://www.airbnb.com/rooms/3308979  20160104002432   2016-01-04   \n",
       "3  7421966  https://www.airbnb.com/rooms/7421966  20160104002432   2016-01-04   \n",
       "4   278830   https://www.airbnb.com/rooms/278830  20160104002432   2016-01-04   \n",
       "\n",
       "                                  name  \\\n",
       "0         Stylish Queen Anne Apartment   \n",
       "1   Bright & Airy Queen Anne Apartment   \n",
       "2  New Modern House-Amazing water view   \n",
       "3                   Queen Anne Chateau   \n",
       "4       Charming craftsman 3 bdm house   \n",
       "\n",
       "                                             summary  \\\n",
       "0                                                NaN   \n",
       "1  Chemically sensitive? We've removed the irrita...   \n",
       "2  New modern house built in 2013.  Spectacular s...   \n",
       "3  A charming apartment that sits atop Queen Anne...   \n",
       "4  Cozy family craftman house in beautiful neighb...   \n",
       "\n",
       "                                               space  \\\n",
       "0  Make your self at home in this charming one-be...   \n",
       "1  Beautiful, hypoallergenic apartment in an extr...   \n",
       "2  Our house is modern, light and fresh with a wa...   \n",
       "3                                                NaN   \n",
       "4  Cozy family craftman house in beautiful neighb...   \n",
       "\n",
       "                                         description experiences_offered  \\\n",
       "0  Make your self at home in this charming one-be...                none   \n",
       "1  Chemically sensitive? We've removed the irrita...                none   \n",
       "2  New modern house built in 2013.  Spectacular s...                none   \n",
       "3  A charming apartment that sits atop Queen Anne...                none   \n",
       "4  Cozy family craftman house in beautiful neighb...                none   \n",
       "\n",
       "                               neighborhood_overview  ... review_scores_value  \\\n",
       "0                                                NaN  ...                10.0   \n",
       "1  Queen Anne is a wonderful, truly functional vi...  ...                10.0   \n",
       "2  Upper Queen Anne is a charming neighborhood fu...  ...                10.0   \n",
       "3                                                NaN  ...                 NaN   \n",
       "4  We are in the beautiful neighborhood of Queen ...  ...                 9.0   \n",
       "\n",
       "  requires_license license jurisdiction_names instant_bookable  \\\n",
       "0                f     NaN         WASHINGTON                f   \n",
       "1                f     NaN         WASHINGTON                f   \n",
       "2                f     NaN         WASHINGTON                f   \n",
       "3                f     NaN         WASHINGTON                f   \n",
       "4                f     NaN         WASHINGTON                f   \n",
       "\n",
       "  cancellation_policy  require_guest_profile_picture  \\\n",
       "0            moderate                              f   \n",
       "1              strict                              t   \n",
       "2              strict                              f   \n",
       "3            flexible                              f   \n",
       "4              strict                              f   \n",
       "\n",
       "  require_guest_phone_verification calculated_host_listings_count  \\\n",
       "0                                f                              2   \n",
       "1                                t                              6   \n",
       "2                                f                              2   \n",
       "3                                f                              1   \n",
       "4                                f                              1   \n",
       "\n",
       "  reviews_per_month  \n",
       "0              4.07  \n",
       "1              1.48  \n",
       "2              1.15  \n",
       "3               NaN  \n",
       "4              0.89  \n",
       "\n",
       "[5 rows x 92 columns]"
      ]
     },
     "execution_count": 507,
     "metadata": {},
     "output_type": "execute_result"
    }
   ],
   "source": [
    "df_listings.head()"
   ]
  },
  {
   "cell_type": "code",
   "execution_count": 508,
   "metadata": {},
   "outputs": [
    {
     "name": "stdout",
     "output_type": "stream",
     "text": [
      "        price\n",
      "0      $85.00\n",
      "1     $150.00\n",
      "2     $975.00\n",
      "3     $100.00\n",
      "4     $450.00\n",
      "...       ...\n",
      "3813  $359.00\n",
      "3814   $79.00\n",
      "3815   $93.00\n",
      "3816   $99.00\n",
      "3817   $87.00\n",
      "\n",
      "[3818 rows x 1 columns]\n"
     ]
    }
   ],
   "source": [
    "#Column 'Price' is considered a Categorical Column, but it is expected to be a quantitative as an amount and is a column of interest\n",
    "print(pd.DataFrame(df_listings, columns=['price']))"
   ]
  },
  {
   "cell_type": "code",
   "execution_count": 509,
   "metadata": {},
   "outputs": [
    {
     "name": "stdout",
     "output_type": "stream",
     "text": [
      "      price\n",
      "0      85.0\n",
      "1     150.0\n",
      "2     975.0\n",
      "3     100.0\n",
      "4     450.0\n",
      "...     ...\n",
      "3813  359.0\n",
      "3814   79.0\n",
      "3815   93.0\n",
      "3816   99.0\n",
      "3817   87.0\n",
      "\n",
      "[3818 rows x 1 columns] float64\n"
     ]
    }
   ],
   "source": [
    "#want to convert the string/object format of the price into a float which can be made for quantitative purpose\n",
    "df_listings['price'] = [price.strip('$') for price in df_listings.price]\n",
    "df_listings['price'] = [price.replace(',', '') for price in df_listings.price]\n",
    "df_listings['price'] = df_listings.price.astype(float)\n",
    "print(pd.DataFrame(df_listings, columns=['price']), df_listings['price'].dtypes)"
   ]
  },
  {
   "cell_type": "code",
   "execution_count": 510,
   "metadata": {},
   "outputs": [],
   "source": [
    "#Now that the 'price' column is quantitative, we can have a look at the columns we're interested in\n",
    "df_listings.drop(df_listings.columns.difference(['review_scores_rating', 'number_of_reviews', \n",
    "                                                 'neighbourhood', 'property_type','room_type', 'bed_type','latitude','longitude','price']), axis=1, inplace=True)"
   ]
  },
  {
   "cell_type": "code",
   "execution_count": 577,
   "metadata": {},
   "outputs": [
    {
     "name": "stdout",
     "output_type": "stream",
     "text": [
      "(3818,)\n",
      "(3818, 1)\n",
      "(3818, 9)\n"
     ]
    },
    {
     "data": {
      "text/html": [
       "<div>\n",
       "<style scoped>\n",
       "    .dataframe tbody tr th:only-of-type {\n",
       "        vertical-align: middle;\n",
       "    }\n",
       "\n",
       "    .dataframe tbody tr th {\n",
       "        vertical-align: top;\n",
       "    }\n",
       "\n",
       "    .dataframe thead th {\n",
       "        text-align: right;\n",
       "    }\n",
       "</style>\n",
       "<table border=\"1\" class=\"dataframe\">\n",
       "  <thead>\n",
       "    <tr style=\"text-align: right;\">\n",
       "      <th></th>\n",
       "      <th>neighbourhood</th>\n",
       "      <th>latitude</th>\n",
       "      <th>longitude</th>\n",
       "      <th>property_type</th>\n",
       "      <th>room_type</th>\n",
       "      <th>bed_type</th>\n",
       "      <th>price</th>\n",
       "      <th>number_of_reviews</th>\n",
       "      <th>review_scores_rating</th>\n",
       "      <th>dist</th>\n",
       "    </tr>\n",
       "  </thead>\n",
       "  <tbody>\n",
       "    <tr>\n",
       "      <td>0</td>\n",
       "      <td>Queen Anne</td>\n",
       "      <td>47.636289</td>\n",
       "      <td>-122.371025</td>\n",
       "      <td>Apartment</td>\n",
       "      <td>Entire home/apt</td>\n",
       "      <td>Real Bed</td>\n",
       "      <td>85.0</td>\n",
       "      <td>207</td>\n",
       "      <td>95.0</td>\n",
       "      <td>4.00</td>\n",
       "    </tr>\n",
       "    <tr>\n",
       "      <td>1</td>\n",
       "      <td>Queen Anne</td>\n",
       "      <td>47.639123</td>\n",
       "      <td>-122.365666</td>\n",
       "      <td>Apartment</td>\n",
       "      <td>Entire home/apt</td>\n",
       "      <td>Real Bed</td>\n",
       "      <td>150.0</td>\n",
       "      <td>43</td>\n",
       "      <td>96.0</td>\n",
       "      <td>3.98</td>\n",
       "    </tr>\n",
       "    <tr>\n",
       "      <td>2</td>\n",
       "      <td>Queen Anne</td>\n",
       "      <td>47.629724</td>\n",
       "      <td>-122.369483</td>\n",
       "      <td>House</td>\n",
       "      <td>Entire home/apt</td>\n",
       "      <td>Real Bed</td>\n",
       "      <td>975.0</td>\n",
       "      <td>20</td>\n",
       "      <td>97.0</td>\n",
       "      <td>3.42</td>\n",
       "    </tr>\n",
       "    <tr>\n",
       "      <td>3</td>\n",
       "      <td>Queen Anne</td>\n",
       "      <td>47.638473</td>\n",
       "      <td>-122.369279</td>\n",
       "      <td>Apartment</td>\n",
       "      <td>Entire home/apt</td>\n",
       "      <td>Real Bed</td>\n",
       "      <td>100.0</td>\n",
       "      <td>0</td>\n",
       "      <td>NaN</td>\n",
       "      <td>4.10</td>\n",
       "    </tr>\n",
       "    <tr>\n",
       "      <td>4</td>\n",
       "      <td>Queen Anne</td>\n",
       "      <td>47.632918</td>\n",
       "      <td>-122.372471</td>\n",
       "      <td>House</td>\n",
       "      <td>Entire home/apt</td>\n",
       "      <td>Real Bed</td>\n",
       "      <td>450.0</td>\n",
       "      <td>38</td>\n",
       "      <td>92.0</td>\n",
       "      <td>3.82</td>\n",
       "    </tr>\n",
       "  </tbody>\n",
       "</table>\n",
       "</div>"
      ],
      "text/plain": [
       "  neighbourhood   latitude   longitude property_type        room_type  \\\n",
       "0    Queen Anne  47.636289 -122.371025     Apartment  Entire home/apt   \n",
       "1    Queen Anne  47.639123 -122.365666     Apartment  Entire home/apt   \n",
       "2    Queen Anne  47.629724 -122.369483         House  Entire home/apt   \n",
       "3    Queen Anne  47.638473 -122.369279     Apartment  Entire home/apt   \n",
       "4    Queen Anne  47.632918 -122.372471         House  Entire home/apt   \n",
       "\n",
       "   bed_type  price  number_of_reviews  review_scores_rating  dist  \n",
       "0  Real Bed   85.0                207                  95.0  4.00  \n",
       "1  Real Bed  150.0                 43                  96.0  3.98  \n",
       "2  Real Bed  975.0                 20                  97.0  3.42  \n",
       "3  Real Bed  100.0                  0                   NaN  4.10  \n",
       "4  Real Bed  450.0                 38                  92.0  3.82  "
      ]
     },
     "execution_count": 577,
     "metadata": {},
     "output_type": "execute_result"
    }
   ],
   "source": [
    "#here, we will add an additional Column which we can use the below Lat/Lon distance between \n",
    "#the city center and the neighbourhoods to calculate the distance\n",
    "\n",
    "#Seattle City Center: 47.6103 lat and 122.3341 long\n",
    "\n",
    "# approximate radius of earth in km\n",
    "R = 6373.0\n",
    "seattle_CC_lat = radians(47.6103)\n",
    "seattle_CC_lon = radians(-122.3341)\n",
    "dist_ary = np.array([])\n",
    "for index, lat_long in df_listings.iterrows(): \n",
    "    neighbourhood_lat = radians(lat_long['latitude'])\n",
    "    neighbourhood_lon = radians(lat_long['longitude'])\n",
    "    dlon = neighbourhood_lon - seattle_CC_lon #differece in longitude\n",
    "    dlat = neighbourhood_lat - seattle_CC_lat #differece in latitude\n",
    "    a = sin(dlat / 2)**2 + cos(seattle_CC_lat) * cos(neighbourhood_lat) * sin(dlon / 2)**2\n",
    "    c = 2 * atan2(sqrt(a), sqrt(1 - a))\n",
    "    dist_ary = np.append(dist_ary, round(R * c, 2)) #appending calculated distance in km into an array\n",
    "\n",
    "#append the distance array to the listings df. first transpose from row to column\n",
    "print(dist_ary.shape)\n",
    "dist_ary_a = np.reshape(dist_ary, (-1, 1))\n",
    "print(dist_ary_a.shape)\n",
    "print(df_listings.shape)\n",
    "pd.concat([df_listings, pd.DataFrame(dist_ary_a.transpose())], axis=1)\n",
    "df_listings_withDist  = pd.concat([df_listings, pd.DataFrame(dist_ary_a)], axis=1)\n",
    "\n",
    "df_listings_withDist = df_listings_withDist.rename(columns = {0: \"dist\"}) \n",
    "df_listings_withDist.head()\n"
   ]
  },
  {
   "cell_type": "code",
   "execution_count": 578,
   "metadata": {},
   "outputs": [
    {
     "data": {
      "image/png": "[encoded data removed]",
      "text/plain": [
       "<Figure size 432x288 with 1 Axes>"
      ]
     },
     "metadata": {
      "needs_background": "light"
     },
     "output_type": "display_data"
    }
   ],
   "source": [
    "#Plot price vs distance for Question 1\n",
    "df_listings_withDist.plot(x='dist', y='price', style='o');"
   ]
  },
  {
   "cell_type": "code",
   "execution_count": 579,
   "metadata": {},
   "outputs": [
    {
     "name": "stdout",
     "output_type": "stream",
     "text": [
      "We can certainly see some visual corrolation between price and distance as the higher prices which are on the vertical are scattered closer to the left - closer to the city centre = 0. As a side task, we also want to see any corrlation between number of reviews and distance to city center, which i hypothesise should have a corrolation.\n",
      "number_of_reviews should be a quantitative full column mean:0.0\n"
     ]
    },
    {
     "data": {
      "image/png": "[encoded data removed]",
      "text/plain": [
       "<Figure size 432x288 with 1 Axes>"
      ]
     },
     "metadata": {
      "needs_background": "light"
     },
     "output_type": "display_data"
    }
   ],
   "source": [
    "print(\"We can certainly see some visual corrolation between price and distance as the higher prices which are on the vertical are scattered closer to the left - closer to the city centre = 0. As a side task, we also want to see any corrlation between number of reviews and distance to city center, which i hypothesise should have a corrolation.\")\n",
    "print(\"number_of_reviews should be a quantitative full column mean:{}\"\n",
    "      .format(df_listings_withDist['number_of_reviews'].isnull().mean()))\n",
    "    \n",
    "df_listings_withDist.plot(x='dist', y='number_of_reviews', style='o');"
   ]
  },
  {
   "cell_type": "code",
   "execution_count": 597,
   "metadata": {},
   "outputs": [
    {
     "name": "stdout",
     "output_type": "stream",
     "text": [
      "the above plot is very scattered to many any conclusions.\n"
     ]
    },
    {
     "data": {
      "image/png": "[encoded data removed]",
      "text/plain": [
       "<Figure size 432x288 with 2 Axes>"
      ]
     },
     "metadata": {
      "needs_background": "light"
     },
     "output_type": "display_data"
    }
   ],
   "source": [
    "print(\"the above plot is very scattered to many any conclusions.\")\n",
    "# our 2nd QUESION will be to have an insight into the below\n",
    "# MachineLearning will be used to see if there is any corrolation hidden within the variables to address why there is reviewing \n",
    "#traffic to come properties but not the others some categorical variables like property type, neighbourhood\n",
    "# against some quantitative variables like distance to city centre, reviews and price.\n",
    "sns.heatmap(df_listings_withDist.corr(), annot=True, fmt='.2f');"
   ]
  },
  {
   "cell_type": "code",
   "execution_count": 598,
   "metadata": {},
   "outputs": [
    {
     "name": "stdout",
     "output_type": "stream",
     "text": [
      "df_listings_withDist\n",
      "rows:  3818 Columns:  10\n",
      "- Identify categorical columns in the DFs -\n",
      "categorical columns:  4\n",
      "- categorical columns with no missing values -\n",
      "Categorical Columns with all data:  2\n",
      "- Identify Quantitative columns in the DFs -\n",
      "Quantitative Columns:  6\n",
      "- Quantitative columns Names with no missing values -\n",
      "Quantitative Columns with all data: 5\n",
      "\n"
     ]
    },
    {
     "data": {
      "text/plain": [
       "(['room_type', 'bed_type'],\n",
       " ['neighbourhood', 'property_type'],\n",
       " ['latitude', 'longitude', 'price', 'number_of_reviews', 'dist'],\n",
       " ['review_scores_rating'])"
      ]
     },
     "execution_count": 598,
     "metadata": {},
     "output_type": "execute_result"
    }
   ],
   "source": [
    "#the heatmap indicates a general lack of corrolation but we will confirm with ML\n",
    "\n",
    "#for the X and response Y vectors for ML. Here, i want the response vector to be 'number of reviews'\n",
    "#First ensure all X vetors are the same without nan vales\n",
    "\n",
    "print(\"df_listings_withDist\")\n",
    "df_listings_withDist_dets = df_cat_and_qnt_details(df_listings_withDist)\n",
    "#[0] df_cat_all_Values_ColName, [1] df_cat_missing_Values_ColName, \n",
    "#[2] df_qnt_all_Values_ColName, [3] df_qnt_missing_Values_ColName \n",
    "df_listings_withDist_dets \n"
   ]
  },
  {
   "cell_type": "code",
   "execution_count": 599,
   "metadata": {},
   "outputs": [
    {
     "data": {
      "text/plain": [
       "neighbourhood           416\n",
       "latitude                  0\n",
       "longitude                 0\n",
       "property_type             1\n",
       "room_type                 0\n",
       "bed_type                  0\n",
       "price                     0\n",
       "number_of_reviews         0\n",
       "review_scores_rating    647\n",
       "dist                      0\n",
       "dtype: int64"
      ]
     },
     "execution_count": 599,
     "metadata": {},
     "output_type": "execute_result"
    }
   ],
   "source": [
    "#from the above, we can see that the categorial \n",
    "#['neighbourhood', 'property_type'] and quantitative ['review_scores_rating'] are missing some data\n",
    "df_listings_withDist.isnull().sum(axis = 0)"
   ]
  },
  {
   "cell_type": "code",
   "execution_count": 600,
   "metadata": {},
   "outputs": [
    {
     "name": "stdout",
     "output_type": "stream",
     "text": [
      "looking at the major missing data columns, we have neighbourhood and review_Scores_Raing. both missing over 5%\n",
      "we're going to Drop neighbourhoor and property because of their categorical nature which cannot be qantified\n"
     ]
    }
   ],
   "source": [
    "print(\"looking at the major missing data columns, we have neighbourhood and review_Scores_Raing. both missing over 5%\")\n",
    "print(\"we're going to Drop neighbourhoor and property because of their categorical nature which cannot be qantified\")\n",
    "\n",
    "#drop\n",
    "df_listings_new = df_listings_withDist.drop(['property_type', 'neighbourhood'], axis=1)\n",
    "\n"
   ]
  },
  {
   "cell_type": "code",
   "execution_count": 605,
   "metadata": {},
   "outputs": [
    {
     "name": "stdout",
     "output_type": "stream",
     "text": [
      "impute the mean of review_scores_rating into he column instead of dropping it. heatmap shows some importance to this col.\n"
     ]
    },
    {
     "data": {
      "text/plain": [
       "latitude                0\n",
       "longitude               0\n",
       "room_type               0\n",
       "bed_type                0\n",
       "price                   0\n",
       "number_of_reviews       0\n",
       "review_scores_rating    0\n",
       "dist                    0\n",
       "dtype: int64"
      ]
     },
     "execution_count": 605,
     "metadata": {},
     "output_type": "execute_result"
    }
   ],
   "source": [
    "print(\"impute the mean of review_scores_rating into he column instead of dropping it. heatmap shows some importance to this col.\")\n",
    "df_listings_Full = df_listings_new.fillna(df_listings_new.review_scores_rating.mean()) #Fill all missing values with the mean of the column.\n",
    "df_listings_Full.isnull().sum(axis = 0)"
   ]
  },
  {
   "cell_type": "code",
   "execution_count": 609,
   "metadata": {},
   "outputs": [
    {
     "data": {
      "text/plain": [
       "'The r-squared score for your model was 0.018581230739556198 on 1146 values.'"
      ]
     },
     "execution_count": 609,
     "metadata": {},
     "output_type": "execute_result"
    }
   ],
   "source": [
    "#now that all the X vectors have values, we can compute the predition\n",
    "X = df_listings_Full[['dist' ,'price', 'review_scores_rating']]\n",
    "y = df_listings_Full['number_of_reviews']\n",
    "\n",
    "#Split into train and test\n",
    "X_train, X_test, y_train, y_test = train_test_split(X, y, test_size=0.3, random_state=42)\n",
    "\n",
    "#Instantiate\n",
    "lm_model = LinearRegression(normalize=True)\n",
    "#Fit\n",
    "lm_model.fit(X_train, y_train)\n",
    "        \n",
    "#Predict and score the model\n",
    "y_test_preds = lm_model.predict(X_test) \n",
    "\n",
    "#Rsquared and y_test\n",
    "rsquared_score = r2_score(y_test, y_test_preds)\n",
    "length_y_test = len(y_test)\n",
    "\n",
    "\"The r-squared score for your model was {} on {} values.\".format(rsquared_score, length_y_test)"
   ]
  },
  {
   "cell_type": "code",
   "execution_count": 586,
   "metadata": {},
   "outputs": [
    {
     "data": {
      "text/plain": [
       "neighbourhood   property_type  room_type      \n",
       "Alki            Apartment      Entire home/apt    126.800000\n",
       "                House          Entire home/apt    218.166667\n",
       "                               Private room       192.666667\n",
       "                Loft           Private room       225.000000\n",
       "                Townhouse      Entire home/apt    234.000000\n",
       "                                                     ...    \n",
       "Yesler Terrace  Apartment      Entire home/apt    155.142857\n",
       "                               Private room        89.000000\n",
       "                Condominium    Entire home/apt    180.000000\n",
       "                               Private room        70.000000\n",
       "                House          Entire home/apt    179.000000\n",
       "Name: price, Length: 460, dtype: float64"
      ]
     },
     "execution_count": 586,
     "metadata": {},
     "output_type": "execute_result"
    }
   ],
   "source": [
    "#check the average price per neighbourhood based on the property and room type\n",
    "pd.DataFrame(df_listings.groupby(['neighbourhood', 'property_type', 'room_type']).mean())['price']"
   ]
  },
  {
   "cell_type": "code",
   "execution_count": 627,
   "metadata": {},
   "outputs": [
    {
     "data": {
      "image/png": "[encoded data removed]",
      "text/plain": [
       "<Figure size 432x288 with 1 Axes>"
      ]
     },
     "metadata": {
      "needs_background": "light"
     },
     "output_type": "display_data"
    }
   ],
   "source": [
    "pd.DataFrame(df_listings_withDist.groupby(['property_type']).mean())['dist'].plot(kind=\"bar\");"
   ]
  }
 ],
 "metadata": {
  "kernelspec": {
   "display_name": "Python 3",
   "language": "python",
   "name": "python3"
  },
  "language_info": {
   "codemirror_mode": {
    "name": "ipython",
    "version": 3
   },
   "file_extension": ".py",
   "mimetype": "text/x-python",
   "name": "python",
   "nbconvert_exporter": "python",
   "pygments_lexer": "ipython3",
   "version": "3.7.4"
  }
 },
 "nbformat": 4,
 "nbformat_minor": 2
}
